{
 "cells": [
  {
   "cell_type": "markdown",
   "id": "e04c2a66-0232-4311-8445-d69e43f287e7",
   "metadata": {
    "execution": {
     "iopub.execute_input": "2022-01-07T21:15:57.009861Z",
     "iopub.status.busy": "2022-01-07T21:15:57.009532Z",
     "iopub.status.idle": "2022-01-07T21:15:57.013136Z",
     "shell.execute_reply": "2022-01-07T21:15:57.012559Z",
     "shell.execute_reply.started": "2022-01-07T21:15:57.009826Z"
    },
    "tags": []
   },
   "source": [
    "<img width=\"10%\" alt=\"Naas\" src=\"https://landen.imgix.net/jtci2pxwjczr/assets/5ice39g4.png?w=160\"/>"
   ]
  },
  {
   "cell_type": "markdown",
   "id": "47c20033-2e43-4c30-9d89-6fd47bfa98e9",
   "metadata": {},
   "source": [
    "# Twitter- Generate leads from post likes\n",
    "<a href=\"https://app.naas.ai/user-redirect/naas/downloader?url=https://raw.githubusercontent.com/jupyter-naas/awesome-notebooks/master/LinkedIn/LinkedIn_Get_comments_from_post.ipynb\" target=\"_parent\"><img src=\"https://img.shields.io/badge/-Open%20in%20Naas-success?labelColor=000000&logo=data:image/svg+xml;base64,PD94bWwgdmVyc2lvbj0iMS4wIiBlbmNvZGluZz0iVVRGLTgiPz4KPHN2ZyB3aWR0aD0iMTAyNHB4IiBoZWlnaHQ9IjEwMjRweCIgdmlld0JveD0iMCAwIDEwMjQgMTAyNCIgeG1sbnM9Imh0dHA6Ly93d3cudzMub3JnLzIwMDAvc3ZnIiB4bWxuczp4bGluaz0iaHR0cDovL3d3dy53My5vcmcvMTk5OS94bGluayIgdmVyc2lvbj0iMS4xIj4KIDwhLS0gR2VuZXJhdGVkIGJ5IFBpeGVsbWF0b3IgUHJvIDIuMC41IC0tPgogPGRlZnM+CiAgPHRleHQgaWQ9InN0cmluZyIgdHJhbnNmb3JtPSJtYXRyaXgoMS4wIDAuMCAwLjAgMS4wIDIyOC4wIDU0LjUpIiBmb250LWZhbWlseT0iQ29tZm9ydGFhLVJlZ3VsYXIsIENvbWZvcnRhYSIgZm9udC1zaXplPSI4MDAiIHRleHQtZGVjb3JhdGlvbj0ibm9uZSIgZmlsbD0iI2ZmZmZmZiIgeD0iMS4xOTk5OTk5OTk5OTk5ODg2IiB5PSI3MDUuMCI+bjwvdGV4dD4KIDwvZGVmcz4KIDx1c2UgaWQ9Im4iIHhsaW5rOmhyZWY9IiNzdHJpbmciLz4KPC9zdmc+Cg==\"/></a>"
   ]
  },
  {
   "cell_type": "markdown",
   "id": "6ec59f5e-ac9e-4ab0-a0e9-51b01b38dcaa",
   "metadata": {},
   "source": [
    "**Tags:** #twitter #post #comments #naas_drivers #automation"
   ]
  },
  {
   "cell_type": "markdown",
   "id": "c40e4f30-0b07-4a3b-b39b-7cb460053f74",
   "metadata": {},
   "source": [
    "**Author:** [Alok Chilka](https://www.linkedin.com/in/calok64/)"
   ]
  },
  {
   "cell_type": "markdown",
   "id": "618b546f-943a-498c-9eb6-637a1e992f21",
   "metadata": {},
   "source": [
    "## Input"
   ]
  },
  {
   "cell_type": "markdown",
   "id": "91fc2ccf-9a27-40f4-bb62-df542a468bc6",
   "metadata": {
    "execution": {
     "iopub.execute_input": "2022-01-08T05:48:50.458541Z",
     "iopub.status.busy": "2022-01-08T05:48:50.458187Z",
     "iopub.status.idle": "2022-01-08T05:48:50.465249Z",
     "shell.execute_reply": "2022-01-08T05:48:50.464699Z",
     "shell.execute_reply.started": "2022-01-08T05:48:50.458451Z"
    }
   },
   "source": [
    "### Import libraries"
   ]
  },
  {
   "cell_type": "code",
   "execution_count": null,
   "id": "e52f830d-57df-4d2d-9b34-35e431afd2c9",
   "metadata": {
    "execution": {
     "iopub.execute_input": "2022-04-14T15:21:19.267094Z",
     "iopub.status.busy": "2022-04-14T15:21:19.266759Z",
     "iopub.status.idle": "2022-04-14T15:21:23.909113Z",
     "shell.execute_reply": "2022-04-14T15:21:23.908173Z",
     "shell.execute_reply.started": "2022-04-14T15:21:19.267056Z"
    },
    "tags": []
   },
   "outputs": [],
   "source": [
    "!pip install --user tweepy"
   ]
  },
  {
   "cell_type": "code",
   "execution_count": null,
   "id": "4f6774a6-ff96-4c39-87a7-69a1fd3777cc",
   "metadata": {
    "execution": {
     "iopub.execute_input": "2022-04-19T16:51:22.387897Z",
     "iopub.status.busy": "2022-04-19T16:51:22.387553Z",
     "iopub.status.idle": "2022-04-19T16:51:25.943660Z",
     "shell.execute_reply": "2022-04-19T16:51:25.942942Z",
     "shell.execute_reply.started": "2022-04-19T16:51:22.387807Z"
    },
    "tags": []
   },
   "outputs": [],
   "source": [
    "from naas_drivers import linkedin, hubspot\n",
    "import pandas as pd\n",
    "import numpy as np\n",
    "import naas\n",
    "from datetime import datetime, timedelta\n",
    "import requests\n",
    "import json\n",
    "import tweepy"
   ]
  },
  {
   "cell_type": "markdown",
   "id": "958d3406-bf4c-48b9-b56b-ad4dad7caaae",
   "metadata": {},
   "source": [
    "### Setup your Twitter"
   ]
  },
  {
   "cell_type": "markdown",
   "id": "2ff0acc6-3b40-49c5-b623-da7cad94899e",
   "metadata": {},
   "source": [
    "### How to get token ?\n",
    "\n",
    "bearer_token – the token used for authentication\n",
    "https://developer.twitter.com/en/docs/authentication/oauth-2-0/bearer-tokens\n"
   ]
  },
  {
   "cell_type": "code",
   "execution_count": null,
   "id": "cb06a98e-6e82-4a9e-bedc-9bc7a6cb30dc",
   "metadata": {
    "execution": {
     "iopub.execute_input": "2022-04-14T15:21:28.290902Z",
     "iopub.status.busy": "2022-04-14T15:21:28.290659Z",
     "iopub.status.idle": "2022-04-14T15:21:28.525212Z",
     "shell.execute_reply": "2022-04-14T15:21:28.524392Z",
     "shell.execute_reply.started": "2022-04-14T15:21:28.290877Z"
    },
    "tags": []
   },
   "outputs": [],
   "source": [
    "#Twitter cookies\n",
    "bearer_token = 'AAAAAAAAAAAAAAAAAAAAAFGZZgEAAAAApLxxxxxxxxxxxxxxxxxxx'\n",
    "\n",
    "client = tweepy.Client(bearer_token=bearer_token)\n",
    "user_name = \"elonmusk\"\n",
    "users = client.get_users(usernames=[user_name])\n",
    "user_id = users.data[0][\"id\"]\n",
    "\n",
    "#set application type. This is used to distinguish data for application in master data model\n",
    "APP_TYPE = \"Twitter\"\n",
    "\n",
    "BASE_URL = \"https://twitter.com/\""
   ]
  },
  {
   "cell_type": "markdown",
   "id": "e83e32f8-9c09-440d-ae87-4f174dad44ee",
   "metadata": {},
   "source": [
    "### Setup your email to receive notifications"
   ]
  },
  {
   "cell_type": "code",
   "execution_count": null,
   "id": "f74f2901-5b69-4cb0-a111-065d6aec83a7",
   "metadata": {
    "execution": {
     "iopub.execute_input": "2022-03-20T23:36:08.841940Z",
     "iopub.status.busy": "2022-03-20T23:36:08.841710Z",
     "iopub.status.idle": "2022-03-20T23:36:08.844750Z",
     "shell.execute_reply": "2022-03-20T23:36:08.844112Z",
     "shell.execute_reply.started": "2022-03-20T23:36:08.841916Z"
    },
    "tags": []
   },
   "outputs": [],
   "source": [
    "SEND_EMAIL_TO = \"<YOUR_EMAIL_ID>\""
   ]
  },
  {
   "cell_type": "markdown",
   "id": "43fff853-fdf1-4949-a781-43b31e65cce9",
   "metadata": {},
   "source": [
    "## Model"
   ]
  },
  {
   "cell_type": "markdown",
   "id": "662dcde3-5093-4635-8971-677853e52f3e",
   "metadata": {},
   "source": [
    "### Get posts from Twitter feed"
   ]
  },
  {
   "cell_type": "code",
   "execution_count": null,
   "id": "944f85cd-f3ed-45b2-867c-965f8eca83eb",
   "metadata": {
    "execution": {
     "iopub.execute_input": "2022-04-14T15:21:40.289413Z",
     "iopub.status.busy": "2022-04-14T15:21:40.289098Z",
     "iopub.status.idle": "2022-04-14T15:21:40.512446Z",
     "shell.execute_reply": "2022-04-14T15:21:40.511614Z",
     "shell.execute_reply.started": "2022-04-14T15:21:40.289380Z"
    },
    "tags": []
   },
   "outputs": [],
   "source": [
    "#Get user tweets\n",
    "tweets = client.get_users_tweets(id=user_id)"
   ]
  },
  {
   "cell_type": "markdown",
   "id": "1545652b",
   "metadata": {},
   "source": [
    "### Build tweet id list"
   ]
  },
  {
   "cell_type": "code",
   "execution_count": null,
   "id": "45db64e4",
   "metadata": {
    "execution": {
     "iopub.execute_input": "2022-04-14T15:21:42.199049Z",
     "iopub.status.busy": "2022-04-14T15:21:42.198792Z",
     "iopub.status.idle": "2022-04-14T15:21:42.203343Z",
     "shell.execute_reply": "2022-04-14T15:21:42.202204Z",
     "shell.execute_reply.started": "2022-04-14T15:21:42.199024Z"
    },
    "tags": []
   },
   "outputs": [],
   "source": [
    "tweetIdList = []\n",
    "for tweet in tweets.data:\n",
    "    tweetIdList.append(str(tweet[\"id\"]))"
   ]
  },
  {
   "cell_type": "code",
   "execution_count": null,
   "id": "0606a013-53e9-4f30-9662-d17752f97792",
   "metadata": {
    "execution": {
     "iopub.execute_input": "2022-04-14T15:21:44.226870Z",
     "iopub.status.busy": "2022-04-14T15:21:44.226616Z",
     "iopub.status.idle": "2022-04-14T15:21:44.238554Z",
     "shell.execute_reply": "2022-04-14T15:21:44.237473Z",
     "shell.execute_reply.started": "2022-04-14T15:21:44.226831Z"
    },
    "tags": []
   },
   "outputs": [],
   "source": [
    "tweetIdList"
   ]
  },
  {
   "cell_type": "markdown",
   "id": "220f2008-106d-439a-a4bc-caa3200f3adc",
   "metadata": {},
   "source": [
    "### Get likes from Twitter posts"
   ]
  },
  {
   "cell_type": "code",
   "execution_count": null,
   "id": "96053b77-ad3f-4eb0-8234-d06d52425678",
   "metadata": {
    "execution": {
     "iopub.execute_input": "2022-04-14T15:21:48.273756Z",
     "iopub.status.busy": "2022-04-14T15:21:48.273380Z",
     "iopub.status.idle": "2022-04-14T15:21:48.288986Z",
     "shell.execute_reply": "2022-04-14T15:21:48.287881Z",
     "shell.execute_reply.started": "2022-04-14T15:21:48.273722Z"
    },
    "tags": []
   },
   "outputs": [],
   "source": [
    "def get_post_stats(tweetIdList):\n",
    "    twitterDF = pd.DataFrame()\n",
    "    for tweetId in tweetIdList:\n",
    "\n",
    "        #print(\"*********************************\")\n",
    "        #print(\"Tweet ID : \", tweetId)\n",
    "        parent_tweet = client.get_tweet(id=tweetId, tweet_fields=[\"author_id\",\"created_at\",\"entities\",\"in_reply_to_user_id\",\n",
    "                                                                        \"referenced_tweets,source,public_metrics\"])\n",
    "        parent_user_name = user_name\n",
    "        parent_Tweet_Title = \"\"\n",
    "        #parent_tweet_id = reply_tweet.data[\"data\"][\"referenced_tweets\"][0][\"id\"]\n",
    "        parent_tweet_text = parent_tweet.data[\"text\"]\n",
    "        parent_created_at = parent_tweet.data[\"created_at\"].strftime(\"%d-%m-%Y %H:%M:%S\")\n",
    "        parent_tweet_URL = BASE_URL+user_name+\"/status/\"+tweetId\n",
    "        parent_public_metrics = parent_tweet.data[\"data\"][\"public_metrics\"]\n",
    "        parent_retweet_count = parent_public_metrics[\"retweet_count\"]\n",
    "        parent_reply_count = parent_public_metrics[\"reply_count\"]\n",
    "        parent_like_count = parent_public_metrics[\"like_count\"]\n",
    "        parent_quote_count = parent_public_metrics[\"quote_count\"]\n",
    "        parent_view_count = 0 #currently twitter has no ways to find out who actually viewed your post hence kept value = 0 to map the columns\n",
    "        parent_comments_mentions = []\n",
    "\n",
    "        retweeted_by_users = client.get_retweeters(id=tweetId)\n",
    "        \n",
    "        retweeted_by_username = []\n",
    "        if retweeted_by_users.data != None:\n",
    "            for retweet_user in retweeted_by_users.data:\n",
    "                retweeted_by_username.append(retweet_user[\"username\"])\n",
    "        \n",
    "        like_by_users = client.get_liking_users(id=tweetId)        \n",
    "        liked_by_username = []\n",
    "        if like_by_users.data != None:\n",
    "            for like_user in like_by_users.data:\n",
    "                liked_by_username.append(like_user[\"username\"])\n",
    "        \n",
    "        mentions = client.get_users_mentions(id=user_id)\n",
    "        \n",
    "        comments = []\n",
    "        if mentions.data != None:\n",
    "            for mention in mentions.data:\n",
    "                child_tweet = client.get_tweet(id=mention[\"id\"], tweet_fields=[\"author_id\", \"in_reply_to_user_id\",\"referenced_tweets,source,public_metrics,text\"])\n",
    "                in_reply_to_tweet_id = child_tweet.data[\"data\"][\"referenced_tweets\"][0][\"id\"]\n",
    "\n",
    "                if str(in_reply_to_tweet_id) == tweetId:\n",
    "                    username = \"@\"+user_name\n",
    "                    temp = str(mention[\"text\"])\n",
    "                    temp = temp.replace(username,\"\")\n",
    "                    comments.append(temp)\n",
    "        \n",
    "        data=[[tweetId,parent_created_at,parent_user_name,parent_Tweet_Title,parent_tweet_text,parent_tweet_URL,parent_view_count,parent_reply_count,parent_like_count,parent_retweet_count,APP_TYPE]]\n",
    "        \n",
    "        df = pd.DataFrame(data,columns=[\"ACTIVITY_ID\",\"PUBLISHED_DATE\",\"AUTHOR_NAME\",\"TITLE\",\"TEXT\",\n",
    "                                        \"POST_URL\",\"VIEWS\",\"COMMENTS\",\"LIKES\",\"SHARES\",\"APPLICATION_TYPE\"])\n",
    "       \n",
    "        twitterDF = twitterDF.append(df)\n",
    "\n",
    "    return twitterDF"
   ]
  },
  {
   "cell_type": "markdown",
   "id": "b0868ba5",
   "metadata": {},
   "source": [
    "## Model"
   ]
  },
  {
   "cell_type": "markdown",
   "id": "a1672113-9137-48d2-8a9c-9b0d629173ac",
   "metadata": {
    "execution": {
     "iopub.execute_input": "2022-04-10T00:28:03.509608Z",
     "iopub.status.busy": "2022-04-10T00:28:03.509359Z",
     "iopub.status.idle": "2022-04-10T00:28:03.518507Z",
     "shell.execute_reply": "2022-04-10T00:28:03.517626Z",
     "shell.execute_reply.started": "2022-04-10T00:28:03.509581Z"
    }
   },
   "source": [
    "Available Columns / Data :\n",
    "\n",
    "- Text\n",
    "- Created At\n",
    "- Public Metrics (Retweet Count, Reply Count,Like Count)\n",
    "- List of users who retweeted \n",
    "- List of users who liked the tweet\n",
    "- Comments with mentions\n",
    "\n",
    "More details can be found at https://developer.twitter.com/en/docs/twitter-api/data-dictionary/object-model/user"
   ]
  },
  {
   "cell_type": "code",
   "execution_count": null,
   "id": "c49b2635-dee7-47f0-bf5a-07a5b1e8b64f",
   "metadata": {
    "execution": {
     "iopub.execute_input": "2022-04-14T15:21:50.718895Z",
     "iopub.status.busy": "2022-04-14T15:21:50.718660Z",
     "iopub.status.idle": "2022-04-14T15:22:00.437498Z",
     "shell.execute_reply": "2022-04-14T15:22:00.436593Z",
     "shell.execute_reply.started": "2022-04-14T15:21:50.718871Z"
    },
    "tags": []
   },
   "outputs": [],
   "source": [
    "get_post_stats(tweetIdList)"
   ]
  },
  {
   "cell_type": "code",
   "execution_count": null,
   "id": "43fadcfc",
   "metadata": {},
   "outputs": [],
   "source": []
  }
 ],
 "metadata": {
  "kernelspec": {
   "display_name": "Python 3",
   "language": "python",
   "name": "python3"
  },
  "language_info": {
   "codemirror_mode": {
    "name": "ipython",
    "version": 3
   },
   "file_extension": ".py",
   "mimetype": "text/x-python",
   "name": "python",
   "nbconvert_exporter": "python",
   "pygments_lexer": "ipython3",
   "version": "3.8.8"
  }
 },
 "nbformat": 4,
 "nbformat_minor": 5
}
